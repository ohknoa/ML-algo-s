{
  "nbformat": 4,
  "nbformat_minor": 0,
  "metadata": {
    "colab": {
      "provenance": []
    },
    "kernelspec": {
      "name": "python3",
      "display_name": "Python 3"
    },
    "language_info": {
      "name": "python"
    }
  },
  "cells": [
    {
      "cell_type": "code",
      "execution_count": 1,
      "metadata": {
        "id": "Bu7Z-_OKuYVL"
      },
      "outputs": [],
      "source": [
        "import numpy as np\n"
      ]
    },
    {
      "cell_type": "code",
      "source": [
        "class BGD():\n",
        "  def __init__ (self,lr =0.01,epochs=1000):\n",
        "    self.lr = lr\n",
        "    self.epochs = epochs\n",
        "    self.w = None\n",
        "    self.b = None\n",
        "\n",
        "  def fit(self,x,y):\n",
        "    # Convert the x and y in array\n",
        "    x = np.array(x)\n",
        "    y = np.array(y)\n",
        "\n",
        "    if len(x) != len(y):\n",
        "      raise ValueError(\"X and Y should have same length\")\n",
        "\n",
        "    else:\n",
        "      # Checking the the dimension of x and if its a 1 then converting it necessarly\n",
        "      if x.ndim == 1:\n",
        "        x = x.reshape(-1,1)\n",
        "      n_samples,n_features = x.shape\n",
        "      self.w = np.zeros(n_features)\n",
        "      self.b = 0\n",
        "    # Here we are calculating the w and b in one pass as in BGD we provide x and y whole in one\n",
        "      for _ in range(self.epochs):\n",
        "        y_pred = x @ self.w + self.b\n",
        "\n",
        "        dw = (x.T @ (y_pred - y))* (1/n_samples)\n",
        "        db = np.sum(y_pred - y) * (1/n_samples)\n",
        "\n",
        "        self.w -= self.lr * dw\n",
        "        self.b -= self.lr * db\n",
        "\n",
        "\n",
        "  def predict(self,x):\n",
        "    x = np.array(x)\n",
        "    if x.ndim == 1:\n",
        "      x = x.reshape(-1,1)\n",
        "    return x @ self.w + self.b\n",
        "\n",
        "  def intercept(self):\n",
        "    return self.b\n",
        "\n",
        "  def coef(self):\n",
        "    return self.w"
      ],
      "metadata": {
        "id": "ZSogHq96ubAg"
      },
      "execution_count": 3,
      "outputs": []
    },
    {
      "cell_type": "code",
      "source": [
        "from sklearn.linear_model import LinearRegression\n",
        "\n",
        "# Data\n",
        "X = [1, 2, 3, 4, 5]\n",
        "y = [5, 7, 9, 11, 13]\n",
        "\n",
        "# BGD\n",
        "bgd = BGD(lr=0.1,epochs=1000)\n",
        "bgd.fit(X,y)\n",
        "\n",
        "# Sklearn\n",
        "lr = LinearRegression()\n",
        "lr.fit(np.array(X).reshape(-1,1),y)\n",
        "\n",
        "# Comparing the coef & Intercept of sklearn and my BGD\n",
        "print(f\" BGD -  Coef: {bgd.coef()}, Intercept: {bgd.intercept()}\")\n",
        "print(f\" Sklearn - Coef: {lr.coef_}, Intercept: {lr.intercept_}\")\n"
      ],
      "metadata": {
        "colab": {
          "base_uri": "https://localhost:8080/"
        },
        "id": "gsYmfHpmwpyM",
        "outputId": "4d3224d1-3a2b-4106-e675-ffe624a022ac"
      },
      "execution_count": 14,
      "outputs": [
        {
          "output_type": "stream",
          "name": "stdout",
          "text": [
            " BGD -  Coef: [2.00000002], Intercept: 2.999999910477887\n",
            " Sklearn - Coef: [2.], Intercept: 3.0\n"
          ]
        }
      ]
    },
    {
      "cell_type": "code",
      "source": [],
      "metadata": {
        "id": "f281xMG4zT_L"
      },
      "execution_count": 13,
      "outputs": []
    }
  ]
}