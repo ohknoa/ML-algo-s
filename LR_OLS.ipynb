{
  "nbformat": 4,
  "nbformat_minor": 0,
  "metadata": {
    "colab": {
      "provenance": []
    },
    "kernelspec": {
      "name": "python3",
      "display_name": "Python 3"
    },
    "language_info": {
      "name": "python"
    }
  },
  "cells": [
    {
      "cell_type": "code",
      "execution_count": 69,
      "metadata": {
        "id": "g836gv8Q_plM"
      },
      "outputs": [],
      "source": [
        "import numpy as np\n",
        "import pandas as pd\n",
        "from sklearn.linear_model import LinearRegression\n",
        "\n",
        "train = pd.read_csv('/content/train (1).csv')\n",
        "train.dropna(inplace=True)"
      ]
    },
    {
      "cell_type": "code",
      "source": [
        "class ols():\n",
        "  def __init__ (self):\n",
        "    self.w = None\n",
        "    self.b = None\n",
        "\n",
        "  def fit(self,x,y):\n",
        "\n",
        "    x = np.array(x)\n",
        "    y = np.array(y)\n",
        "    # Checking the x dimension and changing it respectively\n",
        "    if x.ndim ==1:\n",
        "      x = x.reshape(-1,1)\n",
        "    # Adding the Ones in the front\n",
        "    x = np.hstack((np.ones((x.shape[0],1)),x))\n",
        "    theta = np.linalg.inv(x.T @ x) @ x.T @ y\n",
        "\n",
        "    self.w = theta[1:]\n",
        "    # As the ones in front so bias will be 0 of theta\n",
        "    self.b = theta[0]\n",
        "  def predict(self,x):\n",
        "    x = np.array(x)\n",
        "    # This is doing again as in fit we are converting the training data if given !!\n",
        "    if x.ndim ==1:\n",
        "      x = x.reshape(-1,1)\n",
        "    # In this we dont need to add ones columns as we already have bias.\n",
        "    # We are taking dot product of x and w as the matrixs multpication is possible in this format only.\n",
        "    return x @ self.w + self.b\n",
        "  def intercept(self):\n",
        "    return self.b\n",
        "  def coef(self):\n",
        "    return self.w\n"
      ],
      "metadata": {
        "id": "Vw0dGx3vA7Zs"
      },
      "execution_count": 70,
      "outputs": []
    },
    {
      "cell_type": "code",
      "source": [
        "from sklearn.linear_model import LinearRegression\n",
        "lr = LinearRegression()\n",
        "lr.fit(train[['x']],train['y'])\n",
        "print(f\"sklearn : Intercept : {lr.intercept_} , Coef : {lr.coef_[0]}\")\n",
        "\n",
        "model = ols()\n",
        "model.fit(train[['x']],train['y'])\n",
        "print(f\" Model : Intercept : {model.intercept()} , Coef : {model.coef()[0]}\")"
      ],
      "metadata": {
        "colab": {
          "base_uri": "https://localhost:8080/"
        },
        "id": "kD1y3y5qFh-U",
        "outputId": "30150779-db53-4346-b3e4-f81f0697388a"
      },
      "execution_count": 71,
      "outputs": [
        {
          "output_type": "stream",
          "name": "stdout",
          "text": [
            "sklearn : Intercept : -0.10726546430097272 , Coef : 1.000656381856304\n",
            " Model : Intercept : -0.1072654643009966 , Coef : 1.0006563818563041\n"
          ]
        }
      ]
    },
    {
      "cell_type": "code",
      "source": [],
      "metadata": {
        "colab": {
          "base_uri": "https://localhost:8080/"
        },
        "id": "LP1ZEYtDGimc",
        "outputId": "c5d29fbe-577f-4488-b053-a859e2fbac1f"
      },
      "execution_count": 68,
      "outputs": [
        {
          "output_type": "execute_result",
          "data": {
            "text/plain": [
              "np.float64(-0.1072654643009966)"
            ]
          },
          "metadata": {},
          "execution_count": 68
        }
      ]
    },
    {
      "cell_type": "code",
      "source": [],
      "metadata": {
        "colab": {
          "base_uri": "https://localhost:8080/"
        },
        "id": "S43q2ObOF84h",
        "outputId": "e71da2bd-019f-49f5-8171-776e49c75bb7"
      },
      "execution_count": 37,
      "outputs": [
        {
          "output_type": "execute_result",
          "data": {
            "text/plain": [
              "4"
            ]
          },
          "metadata": {},
          "execution_count": 37
        }
      ]
    }
  ]
}